{
  "nbformat": 4,
  "nbformat_minor": 0,
  "metadata": {
    "colab": {
      "name": "Sesi4.ipynb",
      "provenance": [],
      "include_colab_link": true
    },
    "kernelspec": {
      "name": "python3",
      "display_name": "Python 3"
    }
  },
  "cells": [
    {
      "cell_type": "markdown",
      "metadata": {
        "id": "view-in-github",
        "colab_type": "text"
      },
      "source": [
        "<a href=\"https://colab.research.google.com/github/xiaobao77/python/blob/master/Sesi4.ipynb\" target=\"_parent\"><img src=\"https://colab.research.google.com/assets/colab-badge.svg\" alt=\"Open In Colab\"/></a>"
      ]
    },
    {
      "cell_type": "markdown",
      "metadata": {
        "id": "ISC17aODVlDI"
      },
      "source": [
        "**Membuat fungsi tanpa parameter**"
      ]
    },
    {
      "cell_type": "code",
      "metadata": {
        "id": "KLjnozP9TTUt",
        "colab": {
          "base_uri": "https://localhost:8080/"
        },
        "outputId": "189c16ab-20ff-4adb-8c4c-4fe693a0b02c"
      },
      "source": [
        "# Deklarasi fungsi salam_olahraga\n",
        "def salam_olahraga():\n",
        "    # Mencetak ouput pada fungsi salam_olahraga\n",
        "    print (\"SOLAT TEPAT WAKTU HARI NI!\")\n",
        "    print (\"BISMILLAH!\")\n",
        "    print (\"TAHAMMASII!\")\n",
        "\n",
        "# Memanggil fungsi salam_olahraga\n",
        "salam_olahraga()  # memanggil fungsi salam_olahraga\n",
        "salam_olahraga()  # fungsi salam_olahraga dipanggil lagi"
      ],
      "execution_count": 4,
      "outputs": [
        {
          "output_type": "stream",
          "name": "stdout",
          "text": [
            "SOLAT TEPAT WAKTU HARI NI!\n",
            "BISMILLAH!\n",
            "TAHAMMASII!\n",
            "SOLAT TEPAT WAKTU HARI NI!\n",
            "BISMILLAH!\n",
            "TAHAMMASII!\n"
          ]
        }
      ]
    },
    {
      "cell_type": "markdown",
      "metadata": {
        "id": "mCF3HuJnW67r"
      },
      "source": [
        "**Membuat fungsi dengan Parameter**"
      ]
    },
    {
      "cell_type": "code",
      "metadata": {
        "id": "dXKqSU5AW_ot",
        "colab": {
          "base_uri": "https://localhost:8080/"
        },
        "outputId": "4f42b712-16cd-48ae-ad45-da115bedcbea"
      },
      "source": [
        "# Program Fungsi dengan parameter\n",
        "# Fungsi untuk menyapa seseorang sesuai nama yang dimasukkan sebagai parameter\n",
        "def kenalan(nama):\n",
        "     print(\"Assalamualaikum, \" + nama + \". kaifa haaluki?\")\n",
        "\n",
        "# pemanggilan fungsi\n",
        "kenalan('Miftah')"
      ],
      "execution_count": 6,
      "outputs": [
        {
          "output_type": "stream",
          "name": "stdout",
          "text": [
            "Assalamualaikum, Miftah. kaifa haaluki?\n"
          ]
        }
      ]
    },
    {
      "cell_type": "markdown",
      "metadata": {
        "id": "Ir-wbgYVu4HH"
      },
      "source": [
        "**Program untuk mencari nilai median**"
      ]
    },
    {
      "cell_type": "code",
      "metadata": {
        "id": "ogehUKpLu8Nm",
        "colab": {
          "base_uri": "https://localhost:8080/"
        },
        "outputId": "d3e9fbb2-b4f8-4e03-ce36-4bac80b17d32"
      },
      "source": [
        "# Menghitung dan menampilkan nilai median dari inputan tiga angka\n",
        "# Program ini dibuat dengan kata kunci def untuk membuat fungsi\n",
        "# menghitung nilai median dari 3 nilai yang diinput\n",
        "\n",
        "def median(a, b, c):\n",
        "# Proses perhitungan median cara pertama dengan perbandingan\n",
        "# Menggunakan kata kunci retun untuk mengembalikan nilai\n",
        "# untuk masing-masing nilai, yaitu a, b dan c\n",
        "  if a < b and b < c or a> b and b > c:\n",
        "    return b\n",
        "  if b < a and a < c or b > a and a > c:\n",
        "    return a\n",
        "  if c < a and b < c or c > a and b > c:\n",
        "    return c\n",
        "\n",
        "# Proses perhitungan median cara kedua\n",
        "def median2(a, b, c):\n",
        "    return a + b + c - min(a, b, c) - max(a, b, c)\n",
        "\n",
        "# Menampilkan nilai inputan 3 angka\n",
        "def utama():\n",
        "  x = float(input(\"Masukkan nilai pertama:\"))\n",
        "  y = float(input(\"Masukkan nilai kedua:\"))\n",
        "  z = float(input(\"Masukkan nilai ketiga:\"))\n",
        "\n",
        "  print(\"Nilai median dengan cara pertama:\", median(x, y, z))\n",
        "  print(\"Nilai median dengan cara kedua:\", median2(x, y, z))\n",
        "\n",
        "# Memanggil fungsi utama()\n",
        "utama()"
      ],
      "execution_count": 7,
      "outputs": [
        {
          "output_type": "stream",
          "name": "stdout",
          "text": [
            "Masukkan nilai pertama:9\n",
            "Masukkan nilai kedua:7\n",
            "Masukkan nilai ketiga:15\n",
            "Nilai median dengan cara pertama: 9.0\n",
            "Nilai median dengan cara kedua: 9.0\n"
          ]
        }
      ]
    }
  ]
}