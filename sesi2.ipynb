{
  "nbformat": 4,
  "nbformat_minor": 0,
  "metadata": {
    "colab": {
      "name": "sesi2.ipynb",
      "provenance": [],
      "include_colab_link": true
    },
    "kernelspec": {
      "name": "python3",
      "display_name": "Python 3"
    }
  },
  "cells": [
    {
      "cell_type": "markdown",
      "metadata": {
        "id": "view-in-github",
        "colab_type": "text"
      },
      "source": [
        "<a href=\"https://colab.research.google.com/github/xiaobao77/python/blob/master/sesi2.ipynb\" target=\"_parent\"><img src=\"https://colab.research.google.com/assets/colab-badge.svg\" alt=\"Open In Colab\"/></a>"
      ]
    },
    {
      "cell_type": "markdown",
      "metadata": {
        "id": "Xkjri5kZjrHt"
      },
      "source": [
        "**Menentukan apakah suatu bilangan genap atau ganjil**"
      ]
    },
    {
      "cell_type": "code",
      "metadata": {
        "id": "mafJ01Ftjyfi",
        "colab": {
          "base_uri": "https://localhost:8080/"
        },
        "outputId": "d0d3f255-da46-48b4-d92e-63532a282394"
      },
      "source": [
        "# Program untuk menentukan apakah sebuah bilangan yang diinput ganjil atau genap\n",
        "\n",
        "# Membaca bilangan yang dimasukkan user\n",
        "bil = int(input(\"Masukkan sebuah bilangan:\"))\n",
        "\n",
        "# Proses untuk menentukan bilangan tersebut ganjil atau genap\n",
        "# Menggunakan operator modulus\n",
        "if bil % 2 == 1:\n",
        "  print(bil, \"adalah bilangan ganjil\")\n",
        "else:\n",
        "  print(bil, \"adalah bilangan genap\")"
      ],
      "execution_count": 1,
      "outputs": [
        {
          "output_type": "stream",
          "name": "stdout",
          "text": [
            "Masukkan sebuah bilangan:45\n",
            "45 adalah bilangan ganjil\n"
          ]
        }
      ]
    },
    {
      "cell_type": "markdown",
      "metadata": {
        "id": "WBKnKMGNphsp"
      },
      "source": [
        "**Menentukan suatu huruf vokal atau konsonan**"
      ]
    },
    {
      "cell_type": "code",
      "metadata": {
        "id": "1FIOWP2RpqvK",
        "colab": {
          "base_uri": "https://localhost:8080/"
        },
        "outputId": "b1a5ea72-ad2f-4b2f-f534-cd47eb8c41ef"
      },
      "source": [
        "# Program untuk menentukan apakah huruf tersebut vokal atau konsonan\n",
        "# Dalam Ejaan Bahasa Inggris\n",
        "\n",
        "# Membaca huruf yang dimasukkan user\n",
        "hur= input(\"Masukkan sebuah huruf dari kumpulan abjad:\")\n",
        "\n",
        "#Proses menentukan huruf dan menampilkan hasilnya\n",
        "if hur ==\"a\" or hur == \"e\" or \\\n",
        "   hur ==\"i\" or hur == \"o\" or \\\n",
        "   hur ==\"u\":\n",
        "  print(\"Ini adalah vokal.\")\n",
        "elif hur ==\"y\":\n",
        "  print(\"Kadang vokal...kadang konsonan\")\n",
        "else:\n",
        "  print(\"Ini adalah konsonan.\")"
      ],
      "execution_count": 2,
      "outputs": [
        {
          "output_type": "stream",
          "name": "stdout",
          "text": [
            "Masukkan sebuah huruf dari kumpulan abjad:r\n",
            "Ini adalah konsonan.\n"
          ]
        }
      ]
    },
    {
      "cell_type": "markdown",
      "metadata": {
        "id": "nDaOdiH5-yhD"
      },
      "source": [
        "**Program Menentukan nama Ukuran geometri berdasarkan sisinya**"
      ]
    },
    {
      "cell_type": "code",
      "metadata": {
        "id": "W8q0x8Bf_DeJ",
        "colab": {
          "base_uri": "https://localhost:8080/"
        },
        "outputId": "75f4b087-90ab-4ce9-d635-d23ff18372d0"
      },
      "source": [
        "# Menampilkan nama ukuran geometri berdasarkan jumlah sisi yang diinput\n",
        "\n",
        "# Membaca jumlah sisi yang diinput oleh user\n",
        "sisi = int(input(\"Masukkan jumlah sisinya:\"))\n",
        "\n",
        "# Menampilkan nama ukuran geometri tersebut\n",
        "nama = \"\"\n",
        "if sisi == 3:\n",
        "  nama = \"triangle\"\n",
        "elif sisi == 4:\n",
        "  nama = \"quadrilateral\"\n",
        "elif sisi == 5:\n",
        "  nama = \"pentagon\"\n",
        "elif sisi == 6:\n",
        "  nama = \"hexagon\"\n",
        "elif sisi == 7:\n",
        "  nama = \"heptagon\"\n",
        "elif sisi == 8:\n",
        "  nama = \"ocatagon\"\n",
        "elif sisi == 9:\n",
        "  nama = \"nonagon\"\n",
        "elif sisi == 10:\n",
        "  nama = \"decagon\"\n",
        "\n",
        "# Menampilkan pesan kesalahan atau nama dari ruang geometri\n",
        "if nama == \"\":\n",
        "  print(\"Jumlah sisi yang diinput tidak ada dalam database\")\n",
        "else:\n",
        "  print(\"Ini adalah\", nama)\n",
        "\n"
      ],
      "execution_count": 4,
      "outputs": [
        {
          "output_type": "stream",
          "name": "stdout",
          "text": [
            "Masukkan jumlah sisinya:9\n",
            "Ini adalah nonagon\n"
          ]
        }
      ]
    },
    {
      "cell_type": "markdown",
      "metadata": {
        "id": "q4C4a_d6BX2I"
      },
      "source": [
        "**Program menampilkan 4 musim berdasarkan bulan dan tanggal**"
      ]
    },
    {
      "cell_type": "code",
      "metadata": {
        "id": "JepRvwHdBgqQ",
        "colab": {
          "base_uri": "https://localhost:8080/"
        },
        "outputId": "3952e3e1-1d47-41c9-8ed8-92ef4f790e9f"
      },
      "source": [
        "# Menentukan dan menampilkan nama musim berdasarkan tanggal\n",
        "\n",
        "# Membaca tanggal yang diinput oleh user\n",
        "bulan = input(\"masukkan nama bulan:\")\n",
        "tgl = int(input(\"masukkan tanggal dibulan tersebut:\"))\n",
        "\n",
        "musim = \"Tidak diketahui\"\n",
        "# Proses menentukan nama musim\n",
        "if bulan == \"Januari\" or bulan ==\"Februari\":\n",
        "  musim = \"Winter\"\n",
        "elif bulan == \"Maret\":\n",
        "  if tgl < 20:\n",
        "    musim = \"Winter\"\n",
        "  else:\n",
        "    musim = \"Spring\"\n",
        "elif bulan ==\"April\" or bulan == \"Mei\":\n",
        "  musim = \"Spring\"\n",
        "elif bulan == \"Juni\":\n",
        "  if tgl < 21:\n",
        "    musim = \"Spring\"\n",
        "  else:\n",
        "    musim = \"Summer\"\n",
        "elif bulan ==\"Juli\" or bulan == \"Agustus\":\n",
        "  musim = \"Summer\"\n",
        "elif bulan == \"September\":\n",
        "   if tgl < 22:\n",
        "     musim = \"Summer\"\n",
        "   else:\n",
        "     musim = \"Fall\"\n",
        "elif bulan ==\"Oktober\" or bulan == \"November\":\n",
        "  musim = \"Fall\"\n",
        "elif bulan == \"Desember\":\n",
        "    if tgl < 21:\n",
        "      musim = \"Fall\"\n",
        "    else:\n",
        "      musim = \"Winter\"\n",
        "\n",
        "# Tampilkan hasil\n",
        "print(tgl, bulan, \"adalah dalam musim\", musim)"
      ],
      "execution_count": 7,
      "outputs": [
        {
          "output_type": "stream",
          "name": "stdout",
          "text": [
            "masukkan nama bulan:september\n",
            "masukkan tanggal dibulan tersebut:22\n",
            "22 september adalah dalam musim Tidak diketahui\n"
          ]
        }
      ]
    },
    {
      "cell_type": "code",
      "metadata": {
        "id": "0wqWXuuJiw2N"
      },
      "source": [],
      "execution_count": null,
      "outputs": []
    }
  ]
}